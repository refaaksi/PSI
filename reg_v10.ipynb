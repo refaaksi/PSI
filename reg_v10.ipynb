{
 "cells": [
  {
   "cell_type": "code",
   "execution_count": 343,
   "source": [
    "import pandas as pd\r\n",
    "import numpy as np\r\n",
    "import matplotlib.pyplot as plt \r\n",
    "from datetime import datetime\r\n",
    "import tensorflow as tf\r\n",
    "from tqdm import tqdm_notebook as tqdm\r\n",
    "import collections"
   ],
   "outputs": [],
   "metadata": {}
  },
  {
   "cell_type": "code",
   "execution_count": 344,
   "source": [
    "v10_cb = pd.read_csv(\"v10_cb.csv\")\r\n",
    "v10_p4 = pd.read_csv(\"v10_p4.csv\")\r\n",
    "\r\n",
    "v10_cb[\"timestamp\"]= v10_cb[\"timestamp\"].apply(lambda x: datetime.fromtimestamp(x/1000))\r\n",
    "v10_p4[\"timestamp\"]= v10_p4[\"timestamp\"].apply(lambda x: datetime.fromtimestamp(x/1000))\r\n",
    "\r\n",
    "v10_cb[\"timestamp\"]= v10_cb[\"timestamp\"].apply(lambda x: x - v10_cb[\"timestamp\"][0])\r\n",
    "v10_p4[\"timestamp\"]= v10_p4[\"timestamp\"].apply(lambda x: x - v10_p4[\"timestamp\"][0])\r\n",
    "\r\n",
    "v10_cb[\"timestamp\"] = v10_cb[\"timestamp\"].dt.seconds + v10_cb[\"timestamp\"].dt.microseconds/10e6\r\n",
    "v10_p4[\"timestamp\"] = v10_p4[\"timestamp\"].dt.seconds + v10_p4[\"timestamp\"].dt.microseconds/10e6"
   ],
   "outputs": [],
   "metadata": {}
  },
  {
   "cell_type": "code",
   "execution_count": 345,
   "source": [
    "dt_cb = v10_cb[\"timestamp\"]\r\n",
    "dt_p4 = v10_p4[\"timestamp\"]\r\n",
    "\r\n",
    "cb = v10_cb[\"val\"]\r\n",
    "p4 = v10_p4[\"val\"]"
   ],
   "outputs": [],
   "metadata": {}
  },
  {
   "cell_type": "code",
   "execution_count": 346,
   "source": [
    "np.min(cb)"
   ],
   "outputs": [
    {
     "output_type": "execute_result",
     "data": {
      "text/plain": [
       "0.280737"
      ]
     },
     "metadata": {},
     "execution_count": 346
    }
   ],
   "metadata": {}
  },
  {
   "cell_type": "code",
   "execution_count": 347,
   "source": [
    "plt.plot(dt_p4,p4)\r\n",
    "plt.show()"
   ],
   "outputs": [
    {
     "output_type": "display_data",
     "data": {
      "text/plain": [
       "<Figure size 432x288 with 1 Axes>"
      ],
      "image/png": "[encoded data removed]"
     },
     "metadata": {
      "needs_background": "light"
     }
    }
   ],
   "metadata": {}
  },
  {
   "cell_type": "code",
   "execution_count": 348,
   "source": [
    "epochs = 50000\r\n",
    "optimizer = tf.keras.optimizers.SGD(learning_rate=10e-2, momentum= 0.95)\r\n",
    "# t0 = tf.Variable(tf.random.uniform((1,),minval=-100, maxval=100, name='t0'))\r\n",
    "# t1 = tf.Variable(tf.random.uniform((1,),minval=0, maxval=100, name='t1'))\r\n",
    "# t2 = tf.Variable(tf.random.uniform((1,),minval=0, maxval=100, name='t2'))\r\n",
    "\r\n",
    "t0 = tf.Variable(0.0, name='t0')\r\n",
    "t1 = tf.Variable(1.0, name='t1', constraint = lambda z: tf.clip_by_value(z, 0.0, 100.0))\r\n",
    "t2 = tf.Variable(2.0, name='t2', constraint = lambda z: tf.clip_by_value(z, 0.0, 100.0))\r\n",
    "\r\n",
    "def loss_compute(y_true, y_pred):\r\n",
    "    return tf.square(y_true - y_pred)\r\n",
    "\r\n",
    "patience = 20\r\n",
    "delta = 1\r\n",
    "loss_history = collections.deque(maxlen=patience + 1)\r\n",
    "\r\n",
    "# print(t0)\r\n",
    "# print(t1)\r\n",
    "# print(t2)\r\n",
    "# print(\" \")\r\n",
    "pbar = tqdm(range(epochs))\r\n",
    "\r\n",
    "for epoch in pbar:\r\n",
    "    loss = 0\r\n",
    "    time = tf.constant(dt_p4,dtype=tf.float32)\r\n",
    "    y = tf.constant(p4,dtype = tf.float32)\r\n",
    "\r\n",
    "    with tf.GradientTape(persistent=True) as tape:\r\n",
    "        e1 = tf.exp(-time/t1)\r\n",
    "        e2 = tf.exp(-time/t2)\r\n",
    "        c1 = tf.divide(tf.subtract(t0,t1),tf.add(tf.subtract(t1,t2),tf.constant(10e-3)))\r\n",
    "        c2 = tf.divide(tf.subtract(t0,t2),tf.add(tf.subtract(t2,t1),tf.constant(10e-3)))\r\n",
    "        h1 = tf.multiply(c1,tf.cast(e1, tf.float32))\r\n",
    "        h2 = tf.multiply(c2,tf.cast(e2, tf.float32))\r\n",
    "        h = 1 + h1 + h2\r\n",
    "        y_ = p4[0]+tf.multiply(p4[-1:]-p4[0],h)\r\n",
    "        loss1 = loss_compute(y, y_)\r\n",
    "        loss = tf.reduce_sum(loss1)\r\n",
    "\r\n",
    "        loss_history.append(loss)\r\n",
    "\r\n",
    "        if tf.math.is_nan(c1):\r\n",
    "            raise Exception(\"NaN\")\r\n",
    "        \r\n",
    "        # print(e1,\" , \", e2,\" , \",c1,\" , \",c2,\" , \",h1,\" , \",h2)\r\n",
    "        pbar.set_description('Training Loss: %.3f' % \r\n",
    "                                 loss.numpy())\r\n",
    "\r\n",
    "    gradients = tape.gradient(loss,[t0,t1, t2])\r\n",
    "    optimizer.apply_gradients(zip(gradients, [t0,t1,t2]))\r\n",
    "\r\n",
    "    if len(loss_history) > patience:\r\n",
    "        if loss_history.popleft()*delta < min(loss_history):\r\n",
    "            print(f'\\nEarly stopping. No improvement of more than {delta:.5%} in '\r\n",
    "                  f'validation loss in the last {patience} epochs.')\r\n",
    "            break\r\n",
    "    # print(gradients)\r\n",
    "    # print(\" \")\r\n",
    "    # print(t0)\r\n",
    "    # print(t1)\r\n",
    "    # print(t2)\r\n",
    "    # print(\" \")"
   ],
   "outputs": [
    {
     "output_type": "stream",
     "name": "stderr",
     "text": [
      "C:\\Users\\Refa\\Anaconda3\\envs\\tensorflow_gpu\\lib\\site-packages\\ipykernel_launcher.py:22: TqdmDeprecationWarning: This function will be removed in tqdm==5.0.0\n",
      "Please use `tqdm.notebook.tqdm` instead of `tqdm.tqdm_notebook`\n"
     ]
    },
    {
     "output_type": "display_data",
     "data": {
      "text/plain": [
       "  0%|          | 0/50000 [00:00<?, ?it/s]"
      ],
      "application/vnd.jupyter.widget-view+json": {
       "version_major": 2,
       "version_minor": 0,
       "model_id": "8ed1fce6cb5d4abeb4386c1e4db2cf48"
      }
     },
     "metadata": {}
    },
    {
     "output_type": "error",
     "ename": "KeyboardInterrupt",
     "evalue": "",
     "traceback": [
      "\u001b[1;31m---------------------------------------------------------------------------\u001b[0m",
      "\u001b[1;31mKeyboardInterrupt\u001b[0m                         Traceback (most recent call last)",
      "\u001b[1;32m<ipython-input-348-a286b9be9db5>\u001b[0m in \u001b[0;36m<module>\u001b[1;34m\u001b[0m\n\u001b[0;32m     48\u001b[0m                                  loss.numpy())\n\u001b[0;32m     49\u001b[0m \u001b[1;33m\u001b[0m\u001b[0m\n\u001b[1;32m---> 50\u001b[1;33m     \u001b[0mgradients\u001b[0m \u001b[1;33m=\u001b[0m \u001b[0mtape\u001b[0m\u001b[1;33m.\u001b[0m\u001b[0mgradient\u001b[0m\u001b[1;33m(\u001b[0m\u001b[0mloss\u001b[0m\u001b[1;33m,\u001b[0m\u001b[1;33m[\u001b[0m\u001b[0mt0\u001b[0m\u001b[1;33m,\u001b[0m\u001b[0mt1\u001b[0m\u001b[1;33m,\u001b[0m \u001b[0mt2\u001b[0m\u001b[1;33m]\u001b[0m\u001b[1;33m)\u001b[0m\u001b[1;33m\u001b[0m\u001b[1;33m\u001b[0m\u001b[0m\n\u001b[0m\u001b[0;32m     51\u001b[0m     \u001b[0moptimizer\u001b[0m\u001b[1;33m.\u001b[0m\u001b[0mapply_gradients\u001b[0m\u001b[1;33m(\u001b[0m\u001b[0mzip\u001b[0m\u001b[1;33m(\u001b[0m\u001b[0mgradients\u001b[0m\u001b[1;33m,\u001b[0m \u001b[1;33m[\u001b[0m\u001b[0mt0\u001b[0m\u001b[1;33m,\u001b[0m\u001b[0mt1\u001b[0m\u001b[1;33m,\u001b[0m\u001b[0mt2\u001b[0m\u001b[1;33m]\u001b[0m\u001b[1;33m)\u001b[0m\u001b[1;33m)\u001b[0m\u001b[1;33m\u001b[0m\u001b[1;33m\u001b[0m\u001b[0m\n\u001b[0;32m     52\u001b[0m \u001b[1;33m\u001b[0m\u001b[0m\n",
      "\u001b[1;32m~\\Anaconda3\\envs\\tensorflow_gpu\\lib\\site-packages\\tensorflow\\python\\eager\\backprop.py\u001b[0m in \u001b[0;36mgradient\u001b[1;34m(self, target, sources, output_gradients, unconnected_gradients)\u001b[0m\n\u001b[0;32m   1078\u001b[0m         \u001b[0moutput_gradients\u001b[0m\u001b[1;33m=\u001b[0m\u001b[0moutput_gradients\u001b[0m\u001b[1;33m,\u001b[0m\u001b[1;33m\u001b[0m\u001b[1;33m\u001b[0m\u001b[0m\n\u001b[0;32m   1079\u001b[0m         \u001b[0msources_raw\u001b[0m\u001b[1;33m=\u001b[0m\u001b[0mflat_sources_raw\u001b[0m\u001b[1;33m,\u001b[0m\u001b[1;33m\u001b[0m\u001b[1;33m\u001b[0m\u001b[0m\n\u001b[1;32m-> 1080\u001b[1;33m         unconnected_gradients=unconnected_gradients)\n\u001b[0m\u001b[0;32m   1081\u001b[0m \u001b[1;33m\u001b[0m\u001b[0m\n\u001b[0;32m   1082\u001b[0m     \u001b[1;32mif\u001b[0m \u001b[1;32mnot\u001b[0m \u001b[0mself\u001b[0m\u001b[1;33m.\u001b[0m\u001b[0m_persistent\u001b[0m\u001b[1;33m:\u001b[0m\u001b[1;33m\u001b[0m\u001b[1;33m\u001b[0m\u001b[0m\n",
      "\u001b[1;32m~\\Anaconda3\\envs\\tensorflow_gpu\\lib\\site-packages\\tensorflow\\python\\eager\\imperative_grad.py\u001b[0m in \u001b[0;36mimperative_grad\u001b[1;34m(tape, target, sources, output_gradients, sources_raw, unconnected_gradients)\u001b[0m\n\u001b[0;32m     75\u001b[0m       \u001b[0moutput_gradients\u001b[0m\u001b[1;33m,\u001b[0m\u001b[1;33m\u001b[0m\u001b[1;33m\u001b[0m\u001b[0m\n\u001b[0;32m     76\u001b[0m       \u001b[0msources_raw\u001b[0m\u001b[1;33m,\u001b[0m\u001b[1;33m\u001b[0m\u001b[1;33m\u001b[0m\u001b[0m\n\u001b[1;32m---> 77\u001b[1;33m       compat.as_str(unconnected_gradients.value))\n\u001b[0m",
      "\u001b[1;32m~\\Anaconda3\\envs\\tensorflow_gpu\\lib\\site-packages\\tensorflow\\python\\eager\\backprop.py\u001b[0m in \u001b[0;36m_gradient_function\u001b[1;34m(op_name, attr_tuple, num_inputs, inputs, outputs, out_grads, skip_input_indices, forward_pass_name_scope)\u001b[0m\n\u001b[0;32m    157\u001b[0m       \u001b[0mgradient_name_scope\u001b[0m \u001b[1;33m+=\u001b[0m \u001b[0mforward_pass_name_scope\u001b[0m \u001b[1;33m+\u001b[0m \u001b[1;34m\"/\"\u001b[0m\u001b[1;33m\u001b[0m\u001b[1;33m\u001b[0m\u001b[0m\n\u001b[0;32m    158\u001b[0m     \u001b[1;32mwith\u001b[0m \u001b[0mops\u001b[0m\u001b[1;33m.\u001b[0m\u001b[0mname_scope\u001b[0m\u001b[1;33m(\u001b[0m\u001b[0mgradient_name_scope\u001b[0m\u001b[1;33m)\u001b[0m\u001b[1;33m:\u001b[0m\u001b[1;33m\u001b[0m\u001b[1;33m\u001b[0m\u001b[0m\n\u001b[1;32m--> 159\u001b[1;33m       \u001b[1;32mreturn\u001b[0m \u001b[0mgrad_fn\u001b[0m\u001b[1;33m(\u001b[0m\u001b[0mmock_op\u001b[0m\u001b[1;33m,\u001b[0m \u001b[1;33m*\u001b[0m\u001b[0mout_grads\u001b[0m\u001b[1;33m)\u001b[0m\u001b[1;33m\u001b[0m\u001b[1;33m\u001b[0m\u001b[0m\n\u001b[0m\u001b[0;32m    160\u001b[0m   \u001b[1;32melse\u001b[0m\u001b[1;33m:\u001b[0m\u001b[1;33m\u001b[0m\u001b[1;33m\u001b[0m\u001b[0m\n\u001b[0;32m    161\u001b[0m     \u001b[1;32mreturn\u001b[0m \u001b[0mgrad_fn\u001b[0m\u001b[1;33m(\u001b[0m\u001b[0mmock_op\u001b[0m\u001b[1;33m,\u001b[0m \u001b[1;33m*\u001b[0m\u001b[0mout_grads\u001b[0m\u001b[1;33m)\u001b[0m\u001b[1;33m\u001b[0m\u001b[1;33m\u001b[0m\u001b[0m\n",
      "\u001b[1;32m~\\Anaconda3\\envs\\tensorflow_gpu\\lib\\site-packages\\tensorflow\\python\\ops\\math_grad.py\u001b[0m in \u001b[0;36m_SumGrad\u001b[1;34m(op, grad)\u001b[0m\n\u001b[0;32m    164\u001b[0m         \u001b[1;32melse\u001b[0m\u001b[1;33m:\u001b[0m\u001b[1;33m\u001b[0m\u001b[1;33m\u001b[0m\u001b[0m\n\u001b[0;32m    165\u001b[0m           \u001b[0mnew_shape\u001b[0m \u001b[1;33m=\u001b[0m \u001b[1;33m[\u001b[0m\u001b[1;36m1\u001b[0m\u001b[1;33m]\u001b[0m \u001b[1;33m*\u001b[0m \u001b[0mrank\u001b[0m\u001b[1;33m\u001b[0m\u001b[1;33m\u001b[0m\u001b[0m\n\u001b[1;32m--> 166\u001b[1;33m         \u001b[0mgrad\u001b[0m \u001b[1;33m=\u001b[0m \u001b[0marray_ops\u001b[0m\u001b[1;33m.\u001b[0m\u001b[0mreshape\u001b[0m\u001b[1;33m(\u001b[0m\u001b[0mgrad\u001b[0m\u001b[1;33m,\u001b[0m \u001b[0mnew_shape\u001b[0m\u001b[1;33m)\u001b[0m\u001b[1;33m\u001b[0m\u001b[1;33m\u001b[0m\u001b[0m\n\u001b[0m\u001b[0;32m    167\u001b[0m         \u001b[1;31m# If shape is not fully defined (but rank is), we use Shape.\u001b[0m\u001b[1;33m\u001b[0m\u001b[1;33m\u001b[0m\u001b[1;33m\u001b[0m\u001b[0m\n\u001b[0;32m    168\u001b[0m         \u001b[1;32mif\u001b[0m \u001b[1;32mNone\u001b[0m \u001b[1;32mnot\u001b[0m \u001b[1;32min\u001b[0m \u001b[0minput_0_shape\u001b[0m\u001b[1;33m:\u001b[0m\u001b[1;33m\u001b[0m\u001b[1;33m\u001b[0m\u001b[0m\n",
      "\u001b[1;32m~\\Anaconda3\\envs\\tensorflow_gpu\\lib\\site-packages\\tensorflow\\python\\util\\dispatch.py\u001b[0m in \u001b[0;36mwrapper\u001b[1;34m(*args, **kwargs)\u001b[0m\n\u001b[0;32m    204\u001b[0m     \u001b[1;34m\"\"\"Call target, and fall back on dispatchers if there is a TypeError.\"\"\"\u001b[0m\u001b[1;33m\u001b[0m\u001b[1;33m\u001b[0m\u001b[0m\n\u001b[0;32m    205\u001b[0m     \u001b[1;32mtry\u001b[0m\u001b[1;33m:\u001b[0m\u001b[1;33m\u001b[0m\u001b[1;33m\u001b[0m\u001b[0m\n\u001b[1;32m--> 206\u001b[1;33m       \u001b[1;32mreturn\u001b[0m \u001b[0mtarget\u001b[0m\u001b[1;33m(\u001b[0m\u001b[1;33m*\u001b[0m\u001b[0margs\u001b[0m\u001b[1;33m,\u001b[0m \u001b[1;33m**\u001b[0m\u001b[0mkwargs\u001b[0m\u001b[1;33m)\u001b[0m\u001b[1;33m\u001b[0m\u001b[1;33m\u001b[0m\u001b[0m\n\u001b[0m\u001b[0;32m    207\u001b[0m     \u001b[1;32mexcept\u001b[0m \u001b[1;33m(\u001b[0m\u001b[0mTypeError\u001b[0m\u001b[1;33m,\u001b[0m \u001b[0mValueError\u001b[0m\u001b[1;33m)\u001b[0m\u001b[1;33m:\u001b[0m\u001b[1;33m\u001b[0m\u001b[1;33m\u001b[0m\u001b[0m\n\u001b[0;32m    208\u001b[0m       \u001b[1;31m# Note: convert_to_eager_tensor currently raises a ValueError, not a\u001b[0m\u001b[1;33m\u001b[0m\u001b[1;33m\u001b[0m\u001b[1;33m\u001b[0m\u001b[0m\n",
      "\u001b[1;32m~\\Anaconda3\\envs\\tensorflow_gpu\\lib\\site-packages\\tensorflow\\python\\ops\\array_ops.py\u001b[0m in \u001b[0;36mreshape\u001b[1;34m(tensor, shape, name)\u001b[0m\n\u001b[0;32m    193\u001b[0m     \u001b[0mA\u001b[0m\u001b[0;31m \u001b[0m\u001b[0;31m`\u001b[0m\u001b[0mTensor\u001b[0m\u001b[0;31m`\u001b[0m\u001b[1;33m.\u001b[0m \u001b[0mHas\u001b[0m \u001b[0mthe\u001b[0m \u001b[0msame\u001b[0m \u001b[0mtype\u001b[0m \u001b[1;32mas\u001b[0m\u001b[0;31m \u001b[0m\u001b[0;31m`\u001b[0m\u001b[0mtensor\u001b[0m\u001b[0;31m`\u001b[0m\u001b[1;33m.\u001b[0m\u001b[1;33m\u001b[0m\u001b[1;33m\u001b[0m\u001b[0m\n\u001b[0;32m    194\u001b[0m   \"\"\"\n\u001b[1;32m--> 195\u001b[1;33m   \u001b[0mresult\u001b[0m \u001b[1;33m=\u001b[0m \u001b[0mgen_array_ops\u001b[0m\u001b[1;33m.\u001b[0m\u001b[0mreshape\u001b[0m\u001b[1;33m(\u001b[0m\u001b[0mtensor\u001b[0m\u001b[1;33m,\u001b[0m \u001b[0mshape\u001b[0m\u001b[1;33m,\u001b[0m \u001b[0mname\u001b[0m\u001b[1;33m)\u001b[0m\u001b[1;33m\u001b[0m\u001b[1;33m\u001b[0m\u001b[0m\n\u001b[0m\u001b[0;32m    196\u001b[0m   \u001b[0mtensor_util\u001b[0m\u001b[1;33m.\u001b[0m\u001b[0mmaybe_set_static_shape\u001b[0m\u001b[1;33m(\u001b[0m\u001b[0mresult\u001b[0m\u001b[1;33m,\u001b[0m \u001b[0mshape\u001b[0m\u001b[1;33m)\u001b[0m\u001b[1;33m\u001b[0m\u001b[1;33m\u001b[0m\u001b[0m\n\u001b[0;32m    197\u001b[0m   \u001b[1;32mreturn\u001b[0m \u001b[0mresult\u001b[0m\u001b[1;33m\u001b[0m\u001b[1;33m\u001b[0m\u001b[0m\n",
      "\u001b[1;32m~\\Anaconda3\\envs\\tensorflow_gpu\\lib\\site-packages\\tensorflow\\python\\ops\\gen_array_ops.py\u001b[0m in \u001b[0;36mreshape\u001b[1;34m(tensor, shape, name)\u001b[0m\n\u001b[0;32m   8382\u001b[0m     \u001b[1;32mtry\u001b[0m\u001b[1;33m:\u001b[0m\u001b[1;33m\u001b[0m\u001b[1;33m\u001b[0m\u001b[0m\n\u001b[0;32m   8383\u001b[0m       _result = pywrap_tfe.TFE_Py_FastPathExecute(\n\u001b[1;32m-> 8384\u001b[1;33m         _ctx, \"Reshape\", name, tensor, shape)\n\u001b[0m\u001b[0;32m   8385\u001b[0m       \u001b[1;32mreturn\u001b[0m \u001b[0m_result\u001b[0m\u001b[1;33m\u001b[0m\u001b[1;33m\u001b[0m\u001b[0m\n\u001b[0;32m   8386\u001b[0m     \u001b[1;32mexcept\u001b[0m \u001b[0m_core\u001b[0m\u001b[1;33m.\u001b[0m\u001b[0m_NotOkStatusException\u001b[0m \u001b[1;32mas\u001b[0m \u001b[0me\u001b[0m\u001b[1;33m:\u001b[0m\u001b[1;33m\u001b[0m\u001b[1;33m\u001b[0m\u001b[0m\n",
      "\u001b[1;31mKeyboardInterrupt\u001b[0m: "
     ]
    }
   ],
   "metadata": {}
  },
  {
   "cell_type": "code",
   "execution_count": null,
   "source": [
    "e1 = tf.exp(-dt_p4/t1)\r\n",
    "e2 = tf.exp(-dt_p4/t2)\r\n",
    "c1 = tf.divide(tf.subtract(t0,t1),tf.add(tf.subtract(t1,t2),tf.constant(10e-3)))\r\n",
    "c2 = tf.divide(tf.subtract(t0,t2),tf.add(tf.subtract(t2,t1),tf.constant(10e-3)))\r\n",
    "h1 = tf.multiply(c1,tf.cast(e1, tf.float32))\r\n",
    "h2 = tf.multiply(c2,tf.cast(e2, tf.float32))\r\n",
    "h = 1 + h1 + h2\r\n",
    "y_ = p4[0]+tf.multiply(p4[-1:]-p4[0],h)\r\n",
    "plt.plot(dt_p4,y_)\r\n",
    "plt.plot(dt_p4,p4)\r\n",
    "plt.show()"
   ],
   "outputs": [
    {
     "output_type": "display_data",
     "data": {
      "text/plain": [
       "<Figure size 432x288 with 1 Axes>"
      ],
      "image/png": "[encoded data removed]"
     },
     "metadata": {
      "needs_background": "light"
     }
    }
   ],
   "metadata": {}
  },
  {
   "cell_type": "code",
   "execution_count": null,
   "source": [
    "print(t0)\r\n",
    "print(t1)\r\n",
    "print(t2)\r\n",
    "print(loss)"
   ],
   "outputs": [
    {
     "output_type": "stream",
     "name": "stdout",
     "text": [
      "<tf.Variable 't0:0' shape=() dtype=float32, numpy=-60.06857>\n",
      "<tf.Variable 't1:0' shape=() dtype=float32, numpy=22.492022>\n",
      "<tf.Variable 't2:0' shape=() dtype=float32, numpy=24.627726>\n",
      "tf.Tensor(0.009129043, shape=(), dtype=float32)\n"
     ]
    }
   ],
   "metadata": {}
  },
  {
   "cell_type": "code",
   "execution_count": 356,
   "source": [
    "epochs = 50000\r\n",
    "optimizer = tf.keras.optimizers.SGD(learning_rate=10e-2, momentum= 0.95)\r\n",
    "\r\n",
    "ta = tf.Variable(-1.0, name='ta')\r\n",
    "tb = tf.Variable(-1.0, name='tb')\r\n",
    "t1 = tf.Variable(1.0, name='t1', constraint = lambda z: tf.clip_by_value(z, 0.0, 1000.0))\r\n",
    "t2 = tf.Variable(2.0, name='t2', constraint = lambda z: tf.clip_by_value(z, 0.0, 1000.0))\r\n",
    "t3 = tf.Variable(3.0, name='t3', constraint = lambda z: tf.clip_by_value(z, 0.0, 1000.0))\r\n",
    "\r\n",
    "def loss_compute(y_true, y_pred):\r\n",
    "    return tf.square(y_true - y_pred)\r\n",
    "\r\n",
    "patience = 20\r\n",
    "delta = 1\r\n",
    "loss_history = collections.deque(maxlen=patience + 1)\r\n",
    "\r\n",
    "pbar = tqdm(range(epochs))\r\n",
    "\r\n",
    "for epoch in pbar:\r\n",
    "    loss = 0\r\n",
    "\r\n",
    "    time = tf.constant(dt_cb,dtype=tf.float32)\r\n",
    "    y = tf.constant(cb,dtype = tf.float32)\r\n",
    "\r\n",
    "    with tf.GradientTape(persistent=True) as tape:\r\n",
    "        e1 = tf.exp(-time/t1)\r\n",
    "        e2 = tf.exp(-time/t2)\r\n",
    "        e3 = tf.exp(-time/t3)\r\n",
    "        a1 = tf.multiply(tf.subtract(ta,t1),tf.subtract(tb,t1))\r\n",
    "        a2 = tf.multiply(tf.subtract(ta,t2),tf.subtract(tb,t2))\r\n",
    "        a3 = tf.multiply(tf.subtract(ta,t3),tf.subtract(tb,t3))\r\n",
    "        c1 = tf.divide(a1,tf.multiply(tf.subtract(t1,t2),tf.subtract(t1,t3)))\r\n",
    "        c2 = tf.divide(a2,tf.multiply(tf.subtract(t1,t2),tf.subtract(t2,t3)))\r\n",
    "        c3 = tf.divide(a3,tf.multiply(tf.subtract(t1,t3),tf.subtract(t3,t2)))\r\n",
    "        h1 = tf.multiply(c1,tf.cast(e1, tf.float32))\r\n",
    "        h2 = tf.multiply(c2,tf.cast(e2, tf.float32))\r\n",
    "        h3 = tf.multiply(c3,tf.cast(e3, tf.float32))\r\n",
    "        h = 1 + h1 + h2 + h3\r\n",
    "        y_ = cb[0]+tf.multiply(cb[-1:]-cb[0],h)\r\n",
    "        loss1 = 20*loss_compute(y, y_)\r\n",
    "        loss = tf.reduce_sum(loss1)\r\n",
    "        loss_history.append(loss)\r\n",
    "        if tf.math.is_nan(loss):\r\n",
    "            raise Exception(\"NaN\")\r\n",
    "        \r\n",
    "    pbar.set_description('Training Loss: %.10f' % \r\n",
    "                          loss.numpy())\r\n",
    "\r\n",
    "    gradients = tape.gradient(loss,[ta,tb, t1, t2, t3])\r\n",
    "    optimizer.apply_gradients(zip(gradients, [ta, tb, t1,t2, t3]))\r\n",
    "\r\n",
    "    if len(loss_history) > patience:\r\n",
    "        if loss_history.popleft()*delta < min(loss_history):\r\n",
    "            print(f'\\nEarly stopping. No improvement of more than {delta:.5%} in '\r\n",
    "                  f'validation loss in the last {patience} epochs.')\r\n",
    "            break\r\n",
    "    # print(gradients)"
   ],
   "outputs": [
    {
     "output_type": "stream",
     "name": "stderr",
     "text": [
      "C:\\Users\\Refa\\Anaconda3\\envs\\tensorflow_gpu\\lib\\site-packages\\ipykernel_launcher.py:17: TqdmDeprecationWarning: This function will be removed in tqdm==5.0.0\n",
      "Please use `tqdm.notebook.tqdm` instead of `tqdm.tqdm_notebook`\n"
     ]
    },
    {
     "output_type": "display_data",
     "data": {
      "text/plain": [
       "  0%|          | 0/50000 [00:00<?, ?it/s]"
      ],
      "application/vnd.jupyter.widget-view+json": {
       "version_major": 2,
       "version_minor": 0,
       "model_id": "228cd10adf844d19bd0751a3cae123ed"
      }
     },
     "metadata": {}
    }
   ],
   "metadata": {}
  },
  {
   "cell_type": "code",
   "execution_count": 359,
   "source": [
    "# ta = tf.Variable(-40.73180073, name='ta')\r\n",
    "# tb = tf.Variable(-40.73187408, name='tb')\r\n",
    "# t1 = tf.Variable(125.7752081, name='t1', constraint = lambda z: tf.clip_by_value(z, 0.0, 1000.0))\r\n",
    "# t2 = tf.Variable(5.639043069, name='t2', constraint = lambda z: tf.clip_by_value(z, 0.0, 1000.0))\r\n",
    "# t3 = tf.Variable(5.639039979, name='t3', constraint = lambda z: tf.clip_by_value(z, 0.0, 1000.0))\r\n",
    "\r\n",
    "e1 = tf.exp(-time/t1)\r\n",
    "e2 = tf.exp(-time/t2)\r\n",
    "e3 = tf.exp(-time/t3)\r\n",
    "a1 = tf.multiply(tf.subtract(ta,t1),tf.subtract(tb,t1))\r\n",
    "a2 = tf.multiply(tf.subtract(ta,t2),tf.subtract(tb,t2))\r\n",
    "a3 = tf.multiply(tf.subtract(ta,t3),tf.subtract(tb,t3))\r\n",
    "c1 = tf.divide(a1,tf.multiply(tf.subtract(t1,t2),tf.subtract(t1,t3)))\r\n",
    "c2 = tf.divide(a2,tf.multiply(tf.subtract(t1,t2),tf.subtract(t2,t3)))\r\n",
    "c3 = tf.divide(a3,tf.multiply(tf.subtract(t1,t3),tf.subtract(t3,t2)))\r\n",
    "h1 = tf.multiply(c1,tf.cast(e1, tf.float32))\r\n",
    "h2 = tf.multiply(c2,tf.cast(e2, tf.float32))\r\n",
    "h3 = tf.multiply(c3,tf.cast(e3, tf.float32))\r\n",
    "h = 1 - h1 + h2 + h3\r\n",
    "y_ = cb[0]+tf.multiply(cb[-1:]-cb[0],h)\r\n",
    "plt.plot(dt_cb,y_)\r\n",
    "plt.plot(dt_cb,cb)\r\n",
    "plt.show()"
   ],
   "outputs": [
    {
     "output_type": "display_data",
     "data": {
      "text/plain": [
       "<Figure size 432x288 with 1 Axes>"
      ],
      "image/png": "[encoded data removed]"
     },
     "metadata": {
      "needs_background": "light"
     }
    }
   ],
   "metadata": {}
  },
  {
   "cell_type": "code",
   "execution_count": 360,
   "source": [
    "print(ta)\r\n",
    "print(tb)\r\n",
    "print(t1)\r\n",
    "print(t2)\r\n",
    "print(t3)\r\n",
    "print(loss.numpy())"
   ],
   "outputs": [
    {
     "output_type": "stream",
     "name": "stdout",
     "text": [
      "<tf.Variable 'ta:0' shape=() dtype=float32, numpy=-0.7096263>\n",
      "<tf.Variable 'tb:0' shape=() dtype=float32, numpy=-0.7096263>\n",
      "<tf.Variable 't1:0' shape=() dtype=float32, numpy=0.36969757>\n",
      "<tf.Variable 't2:0' shape=() dtype=float32, numpy=2.0426188>\n",
      "<tf.Variable 't3:0' shape=() dtype=float32, numpy=2.9958913>\n",
      "0.00010091155\n"
     ]
    }
   ],
   "metadata": {}
  },
  {
   "cell_type": "markdown",
   "source": [
    "2.784847e-05"
   ],
   "metadata": {}
  }
 ],
 "metadata": {
  "orig_nbformat": 4,
  "language_info": {
   "name": "python",
   "version": "3.6.9",
   "mimetype": "text/x-python",
   "codemirror_mode": {
    "name": "ipython",
    "version": 3
   },
   "pygments_lexer": "ipython3",
   "nbconvert_exporter": "python",
   "file_extension": ".py"
  },
  "kernelspec": {
   "name": "python3",
   "display_name": "Python 3.6.9 64-bit ('tensorflow_gpu': conda)"
  },
  "interpreter": {
   "hash": "61c0152e1de95d0a739d540d56b1160431b45e4422af3eb11401274c15cb0e3b"
  }
 },
 "nbformat": 4,
 "nbformat_minor": 2
}