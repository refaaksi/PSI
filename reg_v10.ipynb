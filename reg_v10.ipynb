{
 "cells": [
  {
   "cell_type": "code",
   "execution_count": 128,
   "source": [
    "import pandas as pd\r\n",
    "import numpy as np\r\n",
    "import matplotlib.pyplot as plt \r\n",
    "from datetime import datetime\r\n",
    "import tensorflow as tf\r\n",
    "from tqdm import tqdm"
   ],
   "outputs": [],
   "metadata": {}
  },
  {
   "cell_type": "code",
   "execution_count": 121,
   "source": [
    "v10_cb = pd.read_csv(\"v10_cb.csv\")\r\n",
    "v10_p4 = pd.read_csv(\"v10_p4.csv\")\r\n",
    "\r\n",
    "v10_cb[\"timestamp\"]= v10_cb[\"timestamp\"].apply(lambda x: datetime.fromtimestamp(x/1000))\r\n",
    "v10_p4[\"timestamp\"]= v10_p4[\"timestamp\"].apply(lambda x: datetime.fromtimestamp(x/1000))\r\n",
    "\r\n",
    "v10_cb[\"timestamp\"]= v10_cb[\"timestamp\"].apply(lambda x: x - v10_cb[\"timestamp\"][0])\r\n",
    "v10_p4[\"timestamp\"]= v10_p4[\"timestamp\"].apply(lambda x: x - v10_p4[\"timestamp\"][0])\r\n",
    "\r\n",
    "v10_cb[\"timestamp\"] = v10_cb[\"timestamp\"].dt.seconds + v10_cb[\"timestamp\"].dt.microseconds/10e6\r\n",
    "v10_p4[\"timestamp\"] = v10_p4[\"timestamp\"].dt.seconds + v10_p4[\"timestamp\"].dt.microseconds/10e6"
   ],
   "outputs": [],
   "metadata": {}
  },
  {
   "cell_type": "code",
   "execution_count": 122,
   "source": [
    "dt_cb = v10_cb[\"timestamp\"]\r\n",
    "dt_p4 = v10_p4[\"timestamp\"]\r\n",
    "\r\n",
    "cb = v10_cb[\"val\"]\r\n",
    "p4 = v10_p4[\"val\"]"
   ],
   "outputs": [],
   "metadata": {}
  },
  {
   "cell_type": "code",
   "execution_count": 123,
   "source": [
    "np.min(cb)"
   ],
   "outputs": [
    {
     "output_type": "execute_result",
     "data": {
      "text/plain": [
       "0.280737"
      ]
     },
     "metadata": {},
     "execution_count": 123
    }
   ],
   "metadata": {}
  },
  {
   "cell_type": "code",
   "execution_count": 124,
   "source": [
    "plt.plot(dt_p4,p4)\r\n",
    "plt.show()"
   ],
   "outputs": [
    {
     "output_type": "display_data",
     "data": {
      "text/plain": [
       "<Figure size 432x288 with 1 Axes>"
      ],
      "image/png": "[encoded data removed]"
     },
     "metadata": {
      "needs_background": "light"
     }
    }
   ],
   "metadata": {}
  },
  {
   "cell_type": "code",
   "execution_count": 125,
   "source": [
    "epochs = 3\r\n",
    "optimizer = tf.keras.optimizers.SGD(learning_rate=10e-3, momentum = 0.9)\r\n",
    "t0 = tf.Variable(tf.random.uniform((1,),minval=-100, maxval=100, name='t0'))\r\n",
    "t1 = tf.Variable(tf.random.uniform((1,),minval=0, maxval=100, name='t1'))\r\n",
    "t2 = tf.Variable(tf.random.uniform((1,),minval=0, maxval=100, name='t2'))\r\n",
    "loss_metric = tf.keras.metrics.Mean()\r\n",
    "\r\n",
    "def loss_compute(y_true, y_pred):\r\n",
    "    return tf.square(y_true - y_pred)\r\n",
    "\r\n",
    "for epoch in range(epochs):\r\n",
    "    pbar = tqdm(range(len(p4)))\r\n",
    "    \r\n",
    "    for batch_id in pbar:\r\n",
    "        time = dt_p4[batch_id]\r\n",
    "        y = p4[batch_id]\r\n",
    "\r\n",
    "        with tf.GradientTape() as tape:\r\n",
    "            # y = A+B*(1+C*e**(-t/D)+E*e**(-t/F))\r\n",
    "            e1 = np.exp(-time/tf.abs(t1))\r\n",
    "            e2 = np.exp(-time/tf.abs(t2))\r\n",
    "            c1 = tf.divide(tf.subtract(t0,tf.abs(t1)),tf.subtract(tf.abs(t1),tf.abs(t2)))\r\n",
    "            c2 = tf.divide(tf.subtract(t0,tf.abs(t2)),tf.subtract(tf.abs(t2),tf.abs(t1)))\r\n",
    "            h1 = tf.multiply(c1,tf.cast(e1, tf.float32))\r\n",
    "            h2 = tf.multiply(c2,tf.cast(e2, tf.float32))\r\n",
    "            h = 1 + h1 + h2\r\n",
    "            y_ = p4[0]+tf.multiply(p4[-1:]-p4[0],h)\r\n",
    "            loss = 10000*loss_compute(y, y_)\r\n",
    "            # print(e1,\" , \", e2,\" , \",c1,\" , \",c2,\" , \",h1,\" , \",h2)\r\n",
    "\r\n",
    "            gradients = tape.gradient(loss,[t0,t1, t2])\r\n",
    "            optimizer.apply_gradients(zip(gradients, [t0,t1,t2]))\r\n",
    "\r\n",
    "            # Tracking progress\r\n",
    "            loss_metric(loss)\r\n",
    "            pbar.set_description('Training Loss: %.3f' % \r\n",
    "                                 loss_metric.result().numpy())"
   ],
   "outputs": [
    {
     "output_type": "stream",
     "name": "stderr",
     "text": [
      "Training Loss: 0.928: 100%|██████████| 7226/7226 [01:18<00:00, 92.44it/s]\n",
      "Training Loss: 0.837: 100%|██████████| 7226/7226 [01:16<00:00, 94.00it/s]\n",
      "Training Loss: 0.765: 100%|██████████| 7226/7226 [01:17<00:00, 93.68it/s]\n"
     ]
    }
   ],
   "metadata": {}
  },
  {
   "cell_type": "code",
   "execution_count": 126,
   "source": [
    "e1 = np.exp(-dt_p4/tf.abs(t1))\r\n",
    "e2 = np.exp(-dt_p4/tf.abs(t2))\r\n",
    "c1 = tf.divide(tf.subtract(t0,tf.abs(t1)),tf.subtract(tf.abs(t1),tf.abs(t2)))\r\n",
    "c2 = tf.divide(tf.subtract(t0,tf.abs(t2)),tf.subtract(tf.abs(t2),tf.abs(t1)))\r\n",
    "h1 = tf.multiply(c1,tf.cast(e1, tf.float32))\r\n",
    "h2 = tf.multiply(c2,tf.cast(e2, tf.float32))\r\n",
    "h = 1 + h1 + h2\r\n",
    "y_ = p4[0]+tf.multiply(p4[-1:]-p4[0],h)\r\n",
    "plt.plot(dt_p4,y_)\r\n",
    "plt.show()"
   ],
   "outputs": [
    {
     "output_type": "display_data",
     "data": {
      "text/plain": [
       "<Figure size 432x288 with 1 Axes>"
      ],
      "image/png": "[encoded data removed]"
     },
     "metadata": {
      "needs_background": "light"
     }
    }
   ],
   "metadata": {}
  },
  {
   "cell_type": "code",
   "execution_count": 127,
   "source": [
    "print(t0)\r\n",
    "print(t1)\r\n",
    "print(t2)"
   ],
   "outputs": [
    {
     "output_type": "stream",
     "name": "stdout",
     "text": [
      "<tf.Variable 'Variable:0' shape=(1,) dtype=float32, numpy=array([72.071396], dtype=float32)>\n",
      "<tf.Variable 'Variable:0' shape=(1,) dtype=float32, numpy=array([15.231606], dtype=float32)>\n",
      "<tf.Variable 'Variable:0' shape=(1,) dtype=float32, numpy=array([110.21217], dtype=float32)>\n"
     ]
    }
   ],
   "metadata": {}
  },
  {
   "cell_type": "markdown",
   "source": [
    "<tf.Variable 'Variable:0' shape=(1,) dtype=float32, numpy=array([-61.46864], dtype=float32)>\r\n",
    "\r\n",
    "<tf.Variable 'Variable:0' shape=(1,) dtype=float32, numpy=array([-4.853584], dtype=float32)>\r\n",
    "\r\n",
    "<tf.Variable 'Variable:0' shape=(1,) dtype=float32, numpy=array([38.946236], dtype=float32)>"
   ],
   "metadata": {}
  },
  {
   "cell_type": "markdown",
   "source": [],
   "metadata": {}
  }
 ],
 "metadata": {
  "orig_nbformat": 4,
  "language_info": {
   "name": "python",
   "version": "3.9.6",
   "mimetype": "text/x-python",
   "codemirror_mode": {
    "name": "ipython",
    "version": 3
   },
   "pygments_lexer": "ipython3",
   "nbconvert_exporter": "python",
   "file_extension": ".py"
  },
  "kernelspec": {
   "name": "python3",
   "display_name": "Python 3.9.6 64-bit"
  },
  "interpreter": {
   "hash": "f43ce767fa843960abc1a04cfa7d801faa473eff671a3cbfe0c6b2fe601b5129"
  }
 },
 "nbformat": 4,
 "nbformat_minor": 2
}