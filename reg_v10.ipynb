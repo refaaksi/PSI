{
 "cells": [
  {
   "cell_type": "code",
   "execution_count": 69,
   "source": [
    "import pandas as pd\r\n",
    "import numpy as np\r\n",
    "import matplotlib.pyplot as plt \r\n",
    "from datetime import datetime\r\n",
    "import tensorflow as tf\r\n",
    "from tqdm import tqdm"
   ],
   "outputs": [],
   "metadata": {}
  },
  {
   "cell_type": "code",
   "execution_count": 70,
   "source": [
    "v10_cb = pd.read_csv(\"v10_cb.csv\")\r\n",
    "v10_p4 = pd.read_csv(\"v10_p4.csv\")\r\n",
    "\r\n",
    "v10_cb[\"timestamp\"]= v10_cb[\"timestamp\"].apply(lambda x: datetime.fromtimestamp(x/1000))\r\n",
    "v10_p4[\"timestamp\"]= v10_p4[\"timestamp\"].apply(lambda x: datetime.fromtimestamp(x/1000))\r\n",
    "\r\n",
    "v10_cb[\"timestamp\"]= v10_cb[\"timestamp\"].apply(lambda x: x - v10_cb[\"timestamp\"][0])\r\n",
    "v10_p4[\"timestamp\"]= v10_p4[\"timestamp\"].apply(lambda x: x - v10_p4[\"timestamp\"][0])\r\n",
    "\r\n",
    "v10_cb[\"timestamp\"] = v10_cb[\"timestamp\"].dt.seconds + v10_cb[\"timestamp\"].dt.microseconds/10e6\r\n",
    "v10_p4[\"timestamp\"] = v10_p4[\"timestamp\"].dt.seconds + v10_p4[\"timestamp\"].dt.microseconds/10e6"
   ],
   "outputs": [],
   "metadata": {}
  },
  {
   "cell_type": "code",
   "execution_count": 71,
   "source": [
    "dt_cb = v10_cb[\"timestamp\"]\r\n",
    "dt_p4 = v10_p4[\"timestamp\"]\r\n",
    "\r\n",
    "cb = v10_cb[\"val\"]\r\n",
    "p4 = v10_p4[\"val\"]"
   ],
   "outputs": [],
   "metadata": {}
  },
  {
   "cell_type": "code",
   "execution_count": 72,
   "source": [
    "np.min(cb)"
   ],
   "outputs": [
    {
     "output_type": "execute_result",
     "data": {
      "text/plain": [
       "0.280737"
      ]
     },
     "metadata": {},
     "execution_count": 72
    }
   ],
   "metadata": {}
  },
  {
   "cell_type": "code",
   "execution_count": 73,
   "source": [
    "plt.plot(dt_p4,p4)\r\n",
    "plt.show()"
   ],
   "outputs": [
    {
     "output_type": "display_data",
     "data": {
      "text/plain": [
       "<Figure size 432x288 with 1 Axes>"
      ],
      "image/png": "[encoded data removed]"
     },
     "metadata": {
      "needs_background": "light"
     }
    }
   ],
   "metadata": {}
  },
  {
   "cell_type": "code",
   "execution_count": 86,
   "source": [
    "epochs = 20000\r\n",
    "optimizer = tf.keras.optimizers.SGD(learning_rate=10e-2, momentum=0.9)\r\n",
    "# t0 = tf.Variable(tf.random.uniform((1,),minval=-100, maxval=100, name='t0'))\r\n",
    "# t1 = tf.Variable(tf.random.uniform((1,),minval=0, maxval=100, name='t1'))\r\n",
    "# t2 = tf.Variable(tf.random.uniform((1,),minval=0, maxval=100, name='t2'))\r\n",
    "\r\n",
    "t0 = tf.Variable(0.0, name='t0')\r\n",
    "t1 = tf.Variable(1.0, name='t1')\r\n",
    "t2 = tf.Variable(2.0, name='t2')\r\n",
    "\r\n",
    "loss_metric = tf.keras.metrics.Mean()\r\n",
    "\r\n",
    "def loss_compute(y_true, y_pred):\r\n",
    "    return tf.square(y_true - y_pred)\r\n",
    "\r\n",
    "# print(t0)\r\n",
    "# print(t1)\r\n",
    "# print(t2)\r\n",
    "# print(\" \")\r\n",
    "\r\n",
    "for epoch in range(epochs):\r\n",
    "    # pbar = tqdm(range(len(p4)))\r\n",
    "    loss = 0\r\n",
    "    # for batch_id in pbar:\r\n",
    "    time = tf.constant(dt_p4,dtype=tf.float32)\r\n",
    "    y = tf.constant(p4,dtype = tf.float32)\r\n",
    "\r\n",
    "    with tf.GradientTape(persistent=True) as tape:\r\n",
    "        # y = A+B*(1+C*e**(-t/D)+E*e**(-t/F))\r\n",
    "        e1 = np.exp(-time/tf.abs(t1))\r\n",
    "        e2 = np.exp(-time/tf.abs(t2))\r\n",
    "        c1 = tf.divide(tf.subtract(t0,t1),tf.subtract(t1,t2))\r\n",
    "        c2 = tf.divide(tf.subtract(t0,t2),tf.subtract(t2,t1))\r\n",
    "        h1 = tf.multiply(c1,tf.cast(e1, tf.float32))\r\n",
    "        h2 = tf.multiply(c2,tf.cast(e2, tf.float32))\r\n",
    "        h = 1 + h1 + h2\r\n",
    "        y_ = p4[0]+tf.multiply(p4[-1:]-p4[0],h)\r\n",
    "        loss1 = loss_compute(y, y_)\r\n",
    "        loss = tf.reduce_sum(loss1)\r\n",
    "        # print(e1,\" , \", e2,\" , \",c1,\" , \",c2,\" , \",h1,\" , \",h2)\r\n",
    "        # loss_metric(loss)\r\n",
    "        # pbar.set_description('Training Loss: %.3f' % \r\n",
    "        #                         loss_metric.result().numpy())\r\n",
    "\r\n",
    "    gradients = tape.gradient(loss,[t0,t1, t2])\r\n",
    "    optimizer.apply_gradients(zip(gradients, [t0,t1,t2]))\r\n",
    "    # print(gradients)\r\n",
    "    # print(\" \")\r\n",
    "    # print(t0)\r\n",
    "    # print(t1)\r\n",
    "    # print(t2)\r\n",
    "    # print(\" \")"
   ],
   "outputs": [],
   "metadata": {}
  },
  {
   "cell_type": "code",
   "execution_count": 87,
   "source": [
    "e1 = np.exp(-dt_p4/tf.abs(t1))\r\n",
    "e2 = np.exp(-dt_p4/tf.abs(t2))\r\n",
    "c1 = tf.divide(tf.subtract(t0,tf.abs(t1)),tf.subtract(tf.abs(t1),tf.abs(t2)))\r\n",
    "c2 = tf.divide(tf.subtract(t0,tf.abs(t2)),tf.subtract(tf.abs(t2),tf.abs(t1)))\r\n",
    "h1 = tf.multiply(c1,tf.cast(e1, tf.float32))\r\n",
    "h2 = tf.multiply(c2,tf.cast(e2, tf.float32))\r\n",
    "h = 1 + h1 + h2\r\n",
    "y_ = p4[0]+tf.multiply(p4[-1:]-p4[0],h)\r\n",
    "plt.plot(dt_p4,y_)\r\n",
    "plt.show()"
   ],
   "outputs": [
    {
     "output_type": "display_data",
     "data": {
      "text/plain": [
       "<Figure size 432x288 with 1 Axes>"
      ],
      "image/png": "[encoded data removed]"
     },
     "metadata": {
      "needs_background": "light"
     }
    }
   ],
   "metadata": {}
  },
  {
   "cell_type": "code",
   "execution_count": 88,
   "source": [
    "print(t0)\r\n",
    "print(t1)\r\n",
    "print(t2)\r\n",
    "print(loss)"
   ],
   "outputs": [
    {
     "output_type": "stream",
     "name": "stdout",
     "text": [
      "<tf.Variable 't0:0' shape=() dtype=float32, numpy=-49.135975>\n",
      "<tf.Variable 't1:0' shape=() dtype=float32, numpy=7.1438093>\n",
      "<tf.Variable 't2:0' shape=() dtype=float32, numpy=44.99074>\n",
      "tf.Tensor(0.045843836, shape=(), dtype=float32)\n"
     ]
    }
   ],
   "metadata": {}
  },
  {
   "cell_type": "markdown",
   "source": [
    "<tf.Variable 't0:0' shape=() dtype=float32, numpy=-51.70147>\r\n",
    "\r\n",
    "<tf.Variable 't1:0' shape=() dtype=float32, numpy=43.729183>\r\n",
    "\r\n",
    "<tf.Variable 't2:0' shape=() dtype=float32, numpy=10.972501>\r\n",
    "\r\n",
    "tf.Tensor(0.029994767, shape=(), dtype=float32)"
   ],
   "metadata": {}
  },
  {
   "cell_type": "code",
   "execution_count": 89,
   "source": [
    "t=tf.Variable(3.0)\r\n",
    "# for i in range(len(dt_p4)):\r\n",
    "x = tf.constant(dt_p4,dtype=tf.float32)\r\n",
    "with tf.GradientTape(persistent=True) as tape:\r\n",
    "    y =tf.exp(-x/t)\r\n",
    "    a = tf.reduce_sum(y)\r\n",
    "\r\n",
    "print(a)\r\n",
    "print(y)\r\n",
    "grad = tape.gradient(a,t)\r\n",
    "print(grad)"
   ],
   "outputs": [
    {
     "output_type": "stream",
     "name": "stdout",
     "text": [
      "tf.Tensor(32.273415, shape=(), dtype=float32)\n",
      "tf.Tensor([1.        0.9960412 0.9927928 ... 0.        0.        0.       ], shape=(7226,), dtype=float32)\n",
      "tf.Tensor(9.016115, shape=(), dtype=float32)\n"
     ]
    }
   ],
   "metadata": {}
  }
 ],
 "metadata": {
  "orig_nbformat": 4,
  "language_info": {
   "name": "python",
   "version": "3.9.6",
   "mimetype": "text/x-python",
   "codemirror_mode": {
    "name": "ipython",
    "version": 3
   },
   "pygments_lexer": "ipython3",
   "nbconvert_exporter": "python",
   "file_extension": ".py"
  },
  "kernelspec": {
   "name": "python3",
   "display_name": "Python 3.9.6 64-bit"
  },
  "interpreter": {
   "hash": "f43ce767fa843960abc1a04cfa7d801faa473eff671a3cbfe0c6b2fe601b5129"
  }
 },
 "nbformat": 4,
 "nbformat_minor": 2
}