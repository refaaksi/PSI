{
 "cells": [
  {
   "cell_type": "code",
   "execution_count": 303,
   "source": [
    "import pandas as pd\r\n",
    "import numpy as np\r\n",
    "import matplotlib.pyplot as plt \r\n",
    "from datetime import datetime\r\n",
    "import tensorflow as tf\r\n",
    "from tqdm import tqdm_notebook as tqdm\r\n",
    "import collections"
   ],
   "outputs": [],
   "metadata": {}
  },
  {
   "cell_type": "code",
   "execution_count": 304,
   "source": [
    "v10_cb = pd.read_csv(\"v10_cb.csv\")\r\n",
    "v10_p4 = pd.read_csv(\"v10_p4.csv\")\r\n",
    "\r\n",
    "v10_cb[\"timestamp\"]= v10_cb[\"timestamp\"].apply(lambda x: datetime.fromtimestamp(x/1000))\r\n",
    "v10_p4[\"timestamp\"]= v10_p4[\"timestamp\"].apply(lambda x: datetime.fromtimestamp(x/1000))\r\n",
    "\r\n",
    "v10_cb[\"timestamp\"]= v10_cb[\"timestamp\"].apply(lambda x: x - v10_cb[\"timestamp\"][0])\r\n",
    "v10_p4[\"timestamp\"]= v10_p4[\"timestamp\"].apply(lambda x: x - v10_p4[\"timestamp\"][0])\r\n",
    "\r\n",
    "v10_cb[\"timestamp\"] = v10_cb[\"timestamp\"].dt.seconds + v10_cb[\"timestamp\"].dt.microseconds/10e6\r\n",
    "v10_p4[\"timestamp\"] = v10_p4[\"timestamp\"].dt.seconds + v10_p4[\"timestamp\"].dt.microseconds/10e6"
   ],
   "outputs": [],
   "metadata": {}
  },
  {
   "cell_type": "code",
   "execution_count": 305,
   "source": [
    "dt_cb = v10_cb[\"timestamp\"]\r\n",
    "dt_p4 = v10_p4[\"timestamp\"]\r\n",
    "\r\n",
    "cb = v10_cb[\"val\"]\r\n",
    "p4 = v10_p4[\"val\"]"
   ],
   "outputs": [],
   "metadata": {}
  },
  {
   "cell_type": "code",
   "execution_count": 306,
   "source": [
    "np.min(cb)"
   ],
   "outputs": [
    {
     "output_type": "execute_result",
     "data": {
      "text/plain": [
       "0.280737"
      ]
     },
     "metadata": {},
     "execution_count": 306
    }
   ],
   "metadata": {}
  },
  {
   "cell_type": "code",
   "execution_count": 307,
   "source": [
    "plt.plot(dt_p4,p4)\r\n",
    "plt.show()"
   ],
   "outputs": [
    {
     "output_type": "display_data",
     "data": {
      "text/plain": [
       "<Figure size 432x288 with 1 Axes>"
      ],
      "image/png": "[encoded data removed]"
     },
     "metadata": {
      "needs_background": "light"
     }
    }
   ],
   "metadata": {}
  },
  {
   "cell_type": "code",
   "execution_count": 308,
   "source": [
    "epochs = 50000\r\n",
    "optimizer = tf.keras.optimizers.SGD(learning_rate=10e-2, momentum= 0.95)\r\n",
    "# t0 = tf.Variable(tf.random.uniform((1,),minval=-100, maxval=100, name='t0'))\r\n",
    "# t1 = tf.Variable(tf.random.uniform((1,),minval=0, maxval=100, name='t1'))\r\n",
    "# t2 = tf.Variable(tf.random.uniform((1,),minval=0, maxval=100, name='t2'))\r\n",
    "\r\n",
    "t0 = tf.Variable(0.0, name='t0')\r\n",
    "t1 = tf.Variable(1.0, name='t1', constraint = lambda z: tf.clip_by_value(z, 0.0, 100.0))\r\n",
    "t2 = tf.Variable(2.0, name='t2', constraint = lambda z: tf.clip_by_value(z, 0.0, 100.0))\r\n",
    "\r\n",
    "def loss_compute(y_true, y_pred):\r\n",
    "    return tf.square(y_true - y_pred)\r\n",
    "\r\n",
    "patience = 20\r\n",
    "delta = 1\r\n",
    "loss_history = collections.deque(maxlen=patience + 1)\r\n",
    "\r\n",
    "# print(t0)\r\n",
    "# print(t1)\r\n",
    "# print(t2)\r\n",
    "# print(\" \")\r\n",
    "pbar = tqdm(range(epochs))\r\n",
    "\r\n",
    "for epoch in pbar:\r\n",
    "    loss = 0\r\n",
    "    time = tf.constant(dt_p4,dtype=tf.float32)\r\n",
    "    y = tf.constant(p4,dtype = tf.float32)\r\n",
    "\r\n",
    "    with tf.GradientTape(persistent=True) as tape:\r\n",
    "        e1 = tf.exp(-time/t1)\r\n",
    "        e2 = tf.exp(-time/t2)\r\n",
    "        c1 = tf.divide(tf.subtract(t0,t1),tf.add(tf.subtract(t1,t2),tf.constant(10e-3)))\r\n",
    "        c2 = tf.divide(tf.subtract(t0,t2),tf.add(tf.subtract(t2,t1),tf.constant(10e-3)))\r\n",
    "        h1 = tf.multiply(c1,tf.cast(e1, tf.float32))\r\n",
    "        h2 = tf.multiply(c2,tf.cast(e2, tf.float32))\r\n",
    "        h = 1 + h1 + h2\r\n",
    "        y_ = p4[0]+tf.multiply(p4[-1:]-p4[0],h)\r\n",
    "        loss1 = loss_compute(y, y_)\r\n",
    "        loss = tf.reduce_sum(loss1)\r\n",
    "\r\n",
    "        loss_history.append(loss)\r\n",
    "\r\n",
    "        if tf.math.is_nan(c1):\r\n",
    "            raise Exception(\"NaN\")\r\n",
    "        \r\n",
    "        # print(e1,\" , \", e2,\" , \",c1,\" , \",c2,\" , \",h1,\" , \",h2)\r\n",
    "        pbar.set_description('Training Loss: %.3f' % \r\n",
    "                                 loss.numpy())\r\n",
    "\r\n",
    "    gradients = tape.gradient(loss,[t0,t1, t2])\r\n",
    "    optimizer.apply_gradients(zip(gradients, [t0,t1,t2]))\r\n",
    "\r\n",
    "    if len(loss_history) > patience:\r\n",
    "        if loss_history.popleft()*delta < min(loss_history):\r\n",
    "            print(f'\\nEarly stopping. No improvement of more than {delta:.5%} in '\r\n",
    "                  f'validation loss in the last {patience} epochs.')\r\n",
    "            break\r\n",
    "    # print(gradients)\r\n",
    "    # print(\" \")\r\n",
    "    # print(t0)\r\n",
    "    # print(t1)\r\n",
    "    # print(t2)\r\n",
    "    # print(\" \")"
   ],
   "outputs": [
    {
     "output_type": "stream",
     "name": "stderr",
     "text": [
      "C:\\Users\\Refa\\Anaconda3\\envs\\tensorflow_gpu\\lib\\site-packages\\ipykernel_launcher.py:22: TqdmDeprecationWarning: This function will be removed in tqdm==5.0.0\n",
      "Please use `tqdm.notebook.tqdm` instead of `tqdm.tqdm_notebook`\n"
     ]
    },
    {
     "output_type": "display_data",
     "data": {
      "text/plain": [
       "  0%|          | 0/50000 [00:00<?, ?it/s]"
      ],
      "application/vnd.jupyter.widget-view+json": {
       "version_major": 2,
       "version_minor": 0,
       "model_id": "1a81039d88eb4cfe902ae500212ff181"
      }
     },
     "metadata": {}
    },
    {
     "output_type": "stream",
     "name": "stdout",
     "text": [
      "\n",
      "Early stopping. No improvement of more than 100.00000% in validation loss in the last 20 epochs.\n"
     ]
    }
   ],
   "metadata": {}
  },
  {
   "cell_type": "code",
   "execution_count": 309,
   "source": [
    "e1 = tf.exp(-dt_p4/t1)\r\n",
    "e2 = tf.exp(-dt_p4/t2)\r\n",
    "c1 = tf.divide(tf.subtract(t0,t1),tf.add(tf.subtract(t1,t2),tf.constant(10e-3)))\r\n",
    "c2 = tf.divide(tf.subtract(t0,t2),tf.add(tf.subtract(t2,t1),tf.constant(10e-3)))\r\n",
    "h1 = tf.multiply(c1,tf.cast(e1, tf.float32))\r\n",
    "h2 = tf.multiply(c2,tf.cast(e2, tf.float32))\r\n",
    "h = 1 + h1 + h2\r\n",
    "y_ = p4[0]+tf.multiply(p4[-1:]-p4[0],h)\r\n",
    "plt.plot(dt_p4,y_)\r\n",
    "plt.plot(dt_p4,p4)\r\n",
    "plt.show()"
   ],
   "outputs": [
    {
     "output_type": "display_data",
     "data": {
      "text/plain": [
       "<Figure size 432x288 with 1 Axes>"
      ],
      "image/png": "[encoded data removed]"
     },
     "metadata": {
      "needs_background": "light"
     }
    }
   ],
   "metadata": {}
  },
  {
   "cell_type": "code",
   "execution_count": 310,
   "source": [
    "print(t0)\r\n",
    "print(t1)\r\n",
    "print(t2)\r\n",
    "print(loss)"
   ],
   "outputs": [
    {
     "output_type": "stream",
     "name": "stdout",
     "text": [
      "<tf.Variable 't0:0' shape=() dtype=float32, numpy=-60.06857>\n",
      "<tf.Variable 't1:0' shape=() dtype=float32, numpy=22.492022>\n",
      "<tf.Variable 't2:0' shape=() dtype=float32, numpy=24.627726>\n",
      "tf.Tensor(0.009129043, shape=(), dtype=float32)\n"
     ]
    }
   ],
   "metadata": {}
  },
  {
   "cell_type": "code",
   "execution_count": 311,
   "source": [
    "epochs = 50000\r\n",
    "optimizer = tf.keras.optimizers.SGD(learning_rate=10e-2, momentum= 0.95)\r\n",
    "\r\n",
    "ta = tf.Variable(0.0, name='ta')\r\n",
    "tb = tf.Variable(0.0, name='tb')\r\n",
    "t1 = tf.Variable(1.0, name='t1', constraint = lambda z: tf.clip_by_value(z, 0.0, 1000.0))\r\n",
    "t2 = tf.Variable(2.0, name='t2', constraint = lambda z: tf.clip_by_value(z, 0.0, 1000.0))\r\n",
    "t3 = tf.Variable(3.0, name='t3', constraint = lambda z: tf.clip_by_value(z, 0.0, 1000.0))\r\n",
    "\r\n",
    "\r\n",
    "def loss_compute(y_true, y_pred):\r\n",
    "    return tf.square(y_true - y_pred)\r\n",
    "\r\n",
    "patience = 20\r\n",
    "delta = 1\r\n",
    "loss_history = collections.deque(maxlen=patience + 1)\r\n",
    "\r\n",
    "pbar = tqdm(range(epochs))\r\n",
    "\r\n",
    "for epoch in pbar:\r\n",
    "    loss = 0\r\n",
    "\r\n",
    "    time = tf.constant(dt_cb,dtype=tf.float32)\r\n",
    "    y = tf.constant(cb,dtype = tf.float32)\r\n",
    "\r\n",
    "    with tf.GradientTape(persistent=True) as tape:\r\n",
    "        e1 = tf.exp(-time/t1)\r\n",
    "        e2 = tf.exp(-time/t2)\r\n",
    "        e3 = tf.exp(-time/t3)\r\n",
    "        a1 = tf.multiply(tf.subtract(ta,t1),tf.subtract(tb,t1))\r\n",
    "        a2 = tf.multiply(tf.subtract(ta,t2),tf.subtract(tb,t2))\r\n",
    "        a3 = tf.multiply(tf.subtract(ta,t3),tf.subtract(tb,t3))\r\n",
    "        c1 = tf.divide(a1,tf.multiply(tf.add(tf.subtract(t1,t2),tf.constant(10e-3)),tf.add(tf.subtract(t1,t3),tf.constant(10e-3))))\r\n",
    "        c2 = tf.divide(a2,tf.multiply(tf.add(tf.subtract(t1,t2),tf.constant(10e-3)),tf.add(tf.subtract(t2,t3),tf.constant(10e-3))))\r\n",
    "        c3 = tf.divide(a3,tf.multiply(tf.add(tf.subtract(t1,t3),tf.constant(10e-3)),tf.add(tf.subtract(t3,t2),tf.constant(10e-3))))\r\n",
    "        h1 = tf.multiply(c1,tf.cast(e1, tf.float32))\r\n",
    "        h2 = tf.multiply(c2,tf.cast(e2, tf.float32))\r\n",
    "        h3 = tf.multiply(c3,tf.cast(e3, tf.float32))\r\n",
    "        h = 1 + h1 + h2 + h3\r\n",
    "        y_ = cb[0]+tf.multiply(cb[-1:]-cb[0],h)\r\n",
    "        loss1 = loss_compute(y, y_)\r\n",
    "        loss = tf.reduce_sum(loss1)\r\n",
    "        loss_history.append(loss)\r\n",
    "        if tf.math.is_nan(loss):\r\n",
    "            raise Exception(\"NaN\")\r\n",
    "        \r\n",
    "    pbar.set_description('Training Loss: %.10f' % \r\n",
    "                          loss.numpy())\r\n",
    "\r\n",
    "    gradients = tape.gradient(loss,[ta,tb, t1, t2, t3])\r\n",
    "    optimizer.apply_gradients(zip(gradients, [ta, tb, t1,t2, t3]))\r\n",
    "\r\n",
    "    if len(loss_history) > patience:\r\n",
    "        if loss_history.popleft()*delta < min(loss_history):\r\n",
    "            print(f'\\nEarly stopping. No improvement of more than {delta:.5%} in '\r\n",
    "                  f'validation loss in the last {patience} epochs.')\r\n",
    "            break\r\n",
    "    # print(gradients)"
   ],
   "outputs": [
    {
     "output_type": "stream",
     "name": "stderr",
     "text": [
      "C:\\Users\\Refa\\Anaconda3\\envs\\tensorflow_gpu\\lib\\site-packages\\ipykernel_launcher.py:18: TqdmDeprecationWarning: This function will be removed in tqdm==5.0.0\n",
      "Please use `tqdm.notebook.tqdm` instead of `tqdm.tqdm_notebook`\n"
     ]
    },
    {
     "output_type": "display_data",
     "data": {
      "text/plain": [
       "  0%|          | 0/50000 [00:00<?, ?it/s]"
      ],
      "application/vnd.jupyter.widget-view+json": {
       "version_major": 2,
       "version_minor": 0,
       "model_id": "35a8349a35ed480a9b56bc3269f6e958"
      }
     },
     "metadata": {}
    },
    {
     "output_type": "stream",
     "name": "stdout",
     "text": [
      "\n",
      "Early stopping. No improvement of more than 100.00000% in validation loss in the last 20 epochs.\n"
     ]
    }
   ],
   "metadata": {}
  },
  {
   "cell_type": "code",
   "execution_count": 312,
   "source": [
    "e1 = tf.exp(-time/t1)\r\n",
    "e2 = tf.exp(-time/t2)\r\n",
    "e3 = tf.exp(-time/t3)\r\n",
    "a1 = tf.multiply(tf.subtract(ta,t1),tf.subtract(tb,t1))\r\n",
    "a2 = tf.multiply(tf.subtract(ta,t2),tf.subtract(tb,t2))\r\n",
    "a3 = tf.multiply(tf.subtract(ta,t3),tf.subtract(tb,t3))\r\n",
    "c1 = tf.divide(a1,tf.multiply(tf.add(tf.subtract(t1,t2),tf.constant(10e-3)),tf.add(tf.subtract(t1,t3),tf.constant(10e-3))))\r\n",
    "c2 = tf.divide(a2,tf.multiply(tf.add(tf.subtract(t1,t2),tf.constant(10e-3)),tf.add(tf.subtract(t2,t3),tf.constant(10e-3))))\r\n",
    "c3 = tf.divide(a3,tf.multiply(tf.add(tf.subtract(t1,t3),tf.constant(10e-3)),tf.add(tf.subtract(t3,t2),tf.constant(10e-3))))\r\n",
    "h1 = tf.multiply(c1,tf.cast(e1, tf.float32))\r\n",
    "h2 = tf.multiply(c2,tf.cast(e2, tf.float32))\r\n",
    "h3 = tf.multiply(c3,tf.cast(e3, tf.float32))\r\n",
    "h = 1 + h1 + h2 + h3\r\n",
    "y_ = cb[0]+tf.multiply(cb[-1:]-cb[0],h)\r\n",
    "plt.plot(dt_cb,y_)\r\n",
    "plt.plot(dt_cb,cb)\r\n",
    "plt.show()"
   ],
   "outputs": [
    {
     "output_type": "display_data",
     "data": {
      "text/plain": [
       "<Figure size 432x288 with 1 Axes>"
      ],
      "image/png": "[encoded data removed]"
     },
     "metadata": {
      "needs_background": "light"
     }
    }
   ],
   "metadata": {}
  },
  {
   "cell_type": "code",
   "execution_count": 313,
   "source": [
    "print(ta)\r\n",
    "print(tb)\r\n",
    "print(t1)\r\n",
    "print(t2)\r\n",
    "print(t3)\r\n",
    "print(loss.numpy())"
   ],
   "outputs": [
    {
     "output_type": "stream",
     "name": "stdout",
     "text": [
      "<tf.Variable 'ta:0' shape=() dtype=float32, numpy=4.0936815e-05>\n",
      "<tf.Variable 'tb:0' shape=() dtype=float32, numpy=4.0936815e-05>\n",
      "<tf.Variable 't1:0' shape=() dtype=float32, numpy=0.99991614>\n",
      "<tf.Variable 't2:0' shape=() dtype=float32, numpy=2.0>\n",
      "<tf.Variable 't3:0' shape=() dtype=float32, numpy=3.0>\n",
      "4.996147e-06\n"
     ]
    }
   ],
   "metadata": {}
  }
 ],
 "metadata": {
  "orig_nbformat": 4,
  "language_info": {
   "name": "python",
   "version": "3.6.9",
   "mimetype": "text/x-python",
   "codemirror_mode": {
    "name": "ipython",
    "version": 3
   },
   "pygments_lexer": "ipython3",
   "nbconvert_exporter": "python",
   "file_extension": ".py"
  },
  "kernelspec": {
   "name": "python3",
   "display_name": "Python 3.6.9 64-bit ('tensorflow_gpu': conda)"
  },
  "interpreter": {
   "hash": "61c0152e1de95d0a739d540d56b1160431b45e4422af3eb11401274c15cb0e3b"
  }
 },
 "nbformat": 4,
 "nbformat_minor": 2
}